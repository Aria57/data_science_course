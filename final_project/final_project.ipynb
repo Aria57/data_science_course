{
  "nbformat": 4,
  "nbformat_minor": 0,
  "metadata": {
    "colab": {
      "name": "wine_analysis.ipynb",
      "provenance": [],
      "collapsed_sections": []
    },
    "kernelspec": {
      "name": "python3",
      "display_name": "Python 3"
    }
  },
  "cells": [
    {
      "cell_type": "markdown",
      "metadata": {
        "id": "o3EBzjcz9VBO",
        "colab_type": "text"
      },
      "source": [
        "# T81-577: Applied Data Science for Practitioner\n",
        "\n",
        "**Final Project: Data Analysis on Wine Dataset**\n",
        "\n",
        "**Author: Qin Wu**\n",
        "\n",
        "**Instructor: [Asim Banskota](https://sever.wustl.edu/faculty/Pages/default.aspx), School of Engineering and Applied Science, [Washington University in St. Louis](https://engineering.wustl.edu/Programs/Pages/default.aspx)**\n",
        "\n",
        "**Data Source: https://archive.ics.uci.edu/ml/datasets/wine+quality**\n"
      ]
    },
    {
      "cell_type": "markdown",
      "metadata": {
        "id": "T4e4qX6eY9fC",
        "colab_type": "text"
      },
      "source": [
        "---\n",
        "**Business Goal & Supporting objectives**\n",
        "\n",
        "Nowadays, with the improvement of life quality and social-contact need, more and more people find the charm of wine. People's requirement for the quality of wine becomes higher and higher. Moreover, the competition between wine industry is quite fierce, which impels wine industry to make great efforts to meet the customers' demand. \n",
        "As we all know, wine is made by fermentation. Physicochemical and sensory tests are used for evaluating wine certification[1].The quality changes with the difference of its chemical information.  \n",
        "\n",
        "In this project, the dataset I use contains 1599 instances for red wine and 4898 instances  for  white  wine with 14 same chemical information variables about wine. With this dataset, I can do regression and classification analysis. On the one hand, I use regression method to predict the quality. The aim of regression similar to other applications is to create models from data to predict wine quality. And this model can be used in our future application to get the quality of our products based on their chemical information, which effectively helps us control the quality of our products. On the other hand, I use classification method to predict the color(red wine or white wine) based on the variables. This can help wine industry protect and assure the quality of wines, forbid adulteration of wines and control beverage processing[2].\n",
        "\n",
        "\n"
      ]
    },
    {
      "cell_type": "markdown",
      "metadata": {
        "id": "6CFF29ZDqySC",
        "colab_type": "text"
      },
      "source": [
        "\n",
        "\n",
        "---\n",
        "\n",
        "\n",
        "\n",
        "\n",
        "**This project is divided into 4 parts:**\n",
        "\n",
        "*   Import Data & Python Packages\n",
        "*   Exploratory Data Analysis\n",
        "    *   Assess Data Quality & Missing Values\n",
        "    *   Descriptive Statistics\n",
        "    *   Data Visualizations\n",
        "*   Model Training\n",
        "    *   Predicting the Quality (Regression)\n",
        "    *   Predicting the Color (Classification)\n",
        "*   Improvement of the Performance of the Quality Prediction\n",
        "\n",
        "\n",
        "\n",
        "\n",
        "\n",
        "\n",
        "\n",
        "\n",
        "\n",
        "\n",
        "\n",
        "\n",
        "\n",
        "\n",
        "\n",
        "\n",
        "\n",
        "\n",
        "\n",
        "\n",
        "\n"
      ]
    },
    {
      "cell_type": "markdown",
      "metadata": {
        "id": "J4sxGQqIvMUD",
        "colab_type": "text"
      },
      "source": [
        "\n",
        "\n",
        "---\n",
        "\n",
        "\n",
        "**References and Citations**\n",
        "\n",
        "[1] Er, Yeşim, Atasoy ,and Ayten.The Classification of White Wine and Red Wine According to Their Physicochemical Qualities. International Journal of Intelligent Systems and Applications in Engineering. 10.18201/ijisae.265954\n",
        "\n",
        "[2] Gonzalez Viejo, Claudia, Torrico, Damir, Dunshea, Frank,Fuentes, and Sigfredo. Emerging technologies based on artificial intelligence to assess quality and consumer preference of beverages. 10.3390/beverages5040062\n",
        "\n",
        "[3] https://github.com/jeffheaton/t81_558_deep_learning\n",
        "\n",
        "[4] https://sriramjaju.github.io/2017-09-10-EDA-RedWine/\n",
        "\n",
        "[5] https://github.com/abanskota/t81_577_data_science\n",
        "\n",
        "\n",
        "\n"
      ]
    },
    {
      "cell_type": "markdown",
      "metadata": {
        "id": "kmccjUfXuqTv",
        "colab_type": "text"
      },
      "source": [
        "Map my GDrive to /content/drive."
      ]
    },
    {
      "cell_type": "code",
      "metadata": {
        "id": "nJLl0BclusNx",
        "colab_type": "code",
        "outputId": "2db2c8d6-96f4-4746-ef95-62c49d3684b0",
        "colab": {
          "base_uri": "https://localhost:8080/",
          "height": 139
        }
      },
      "source": [
        "try:\n",
        "    from google.colab import drive\n",
        "    drive.mount('/content/drive', force_remount=True)\n",
        "    COLAB = True\n",
        "    print(\"Note: using Google CoLab\")\n",
        "    %tensorflow_version 2.x\n",
        "except:\n",
        "    print(\"Note: not using Google CoLab\")\n",
        "    COLAB = False"
      ],
      "execution_count": 0,
      "outputs": [
        {
          "output_type": "stream",
          "text": [
            "Go to this URL in a browser: https://accounts.google.com/o/oauth2/auth?client_id=947318989803-6bn6qk8qdgf4n4g3pfee6491hc0brc4i.apps.googleusercontent.com&redirect_uri=urn%3aietf%3awg%3aoauth%3a2.0%3aoob&response_type=code&scope=email%20https%3a%2f%2fwww.googleapis.com%2fauth%2fdocs.test%20https%3a%2f%2fwww.googleapis.com%2fauth%2fdrive%20https%3a%2f%2fwww.googleapis.com%2fauth%2fdrive.photos.readonly%20https%3a%2f%2fwww.googleapis.com%2fauth%2fpeopleapi.readonly\n",
            "\n",
            "Enter your authorization code:\n",
            "··········\n",
            "Mounted at /content/drive\n",
            "Note: using Google CoLab\n"
          ],
          "name": "stdout"
        }
      ]
    },
    {
      "cell_type": "markdown",
      "metadata": {
        "id": "qtFVRRE5xLNN",
        "colab_type": "text"
      },
      "source": [
        "**1. Import Data & Python Packages**"
      ]
    },
    {
      "cell_type": "code",
      "metadata": {
        "id": "SJYeB0rQxCUG",
        "colab_type": "code",
        "outputId": "6a9a2a15-aebd-4845-f8b3-10ed693571b2",
        "colab": {
          "base_uri": "https://localhost:8080/",
          "height": 105
        }
      },
      "source": [
        "import numpy as np \n",
        "from numpy import arange\n",
        "\n",
        "import pandas as pd \n",
        "from pandas import read_csv\n",
        "from pandas import set_option\n",
        "from pandas.plotting import scatter_matrix\n",
        "\n",
        "from sklearn import preprocessing\n",
        "from matplotlib import pyplot\n",
        "import matplotlib.pyplot as plt \n",
        "\n",
        "#import statsmodels.api as sm\n",
        "#import statsmodels.formula.api as smf\n",
        "\n",
        "from sklearn import datasets, linear_model\n",
        "from sklearn.linear_model import LinearRegression\n",
        "from sklearn.linear_model import Ridge\n",
        "from sklearn.linear_model import Lasso\n",
        "#from sklearn.linear_model import ElasticNet\n",
        "from sklearn.metrics import accuracy_score\n",
        "%matplotlib inline\n",
        "from sklearn.linear_model import LogisticRegression\n",
        "from sklearn.preprocessing import StandardScaler\n",
        "from sklearn.model_selection import train_test_split\n",
        "from sklearn.model_selection import KFold\n",
        "from sklearn.model_selection import cross_val_score\n",
        "from sklearn.model_selection import GridSearchCV\n",
        "from sklearn.metrics import mean_squared_error\n",
        "from sklearn.pipeline import Pipeline\n",
        "from sklearn.tree import DecisionTreeRegressor\n",
        "from sklearn.neighbors import KNeighborsRegressor\n",
        "#from sklearn.svm import SVR\n",
        "from sklearn.ensemble import RandomForestRegressor\n",
        "from sklearn.ensemble import ExtraTreesRegressor\n",
        "from sklearn.ensemble import AdaBoostRegressor\n",
        "from sklearn.ensemble import GradientBoostingRegressor\n",
        "from sklearn.externals.joblib import dump\n",
        "from sklearn.externals.joblib import load\n",
        "#from datetime import datetime\n",
        "from sklearn.compose import ColumnTransformer\n",
        "from sklearn.preprocessing import MinMaxScaler\n",
        "from sklearn.impute import SimpleImputer\n",
        "from sklearn.preprocessing import PolynomialFeatures\n",
        "from sklearn.metrics import mean_absolute_error, r2_score\n",
        "from sklearn.preprocessing import FunctionTransformer\n",
        "from sklearn.ensemble import RandomForestClassifier\n",
        "\n",
        "plt.rc(\"font\", size=14)\n",
        "import seaborn as sns\n",
        "sns.set(style=\"white\") #white background style for seaborn plots\n",
        "sns.set(style=\"whitegrid\", color_codes=True)\n",
        "from matplotlib import pyplot\n",
        "#from ggplot import *"
      ],
      "execution_count": 0,
      "outputs": [
        {
          "output_type": "stream",
          "text": [
            "/usr/local/lib/python3.6/dist-packages/sklearn/externals/joblib/__init__.py:15: FutureWarning: sklearn.externals.joblib is deprecated in 0.21 and will be removed in 0.23. Please import this functionality directly from joblib, which can be installed with: pip install joblib. If this warning is raised when loading pickled models, you may need to re-serialize those models with scikit-learn 0.21+.\n",
            "  warnings.warn(msg, category=FutureWarning)\n",
            "/usr/local/lib/python3.6/dist-packages/statsmodels/tools/_testing.py:19: FutureWarning: pandas.util.testing is deprecated. Use the functions in the public API at pandas.testing instead.\n",
            "  import pandas.util.testing as tm\n"
          ],
          "name": "stderr"
        }
      ]
    },
    {
      "cell_type": "code",
      "metadata": {
        "id": "YtEMwUeFxNwa",
        "colab_type": "code",
        "colab": {}
      },
      "source": [
        "#load wine quality data into Pandas\n",
        "wine_red = pd.read_csv('/content/drive/My Drive/SP2020/Data Science/Wine/winequality-red.csv',';')\n",
        "wine_white = pd.read_csv('/content/drive/My Drive/SP2020/Data Science/Wine/winequality-white.csv',';')"
      ],
      "execution_count": 0,
      "outputs": []
    },
    {
      "cell_type": "code",
      "metadata": {
        "id": "KtoKVcMyxUkb",
        "colab_type": "code",
        "colab": {}
      },
      "source": [
        "wine_red[\"color\"] = \"red\"\n",
        "wine_white[\"color\"] = \"white\""
      ],
      "execution_count": 0,
      "outputs": []
    },
    {
      "cell_type": "code",
      "metadata": {
        "id": "cQMQF8exxaY9",
        "colab_type": "code",
        "colab": {}
      },
      "source": [
        "wine_all=pd.concat([wine_red,wine_white],axis=0)"
      ],
      "execution_count": 0,
      "outputs": []
    },
    {
      "cell_type": "code",
      "metadata": {
        "id": "PEwAU1f04G6V",
        "colab_type": "code",
        "colab": {}
      },
      "source": [
        "wine_red.rename(columns={'fixed acidity': 'fixed_acidity',\n",
        "                         'citric acid':'citric_acid',\n",
        "                         'volatile acidity':'volatile_acidity',\n",
        "                         'residual sugar':'residual_sugar',\n",
        "                         'free sulfur dioxide':'free_sulfur_dioxide',\n",
        "                         'total sulfur dioxide':'total_sulfur_dioxide'}, inplace=True)"
      ],
      "execution_count": 0,
      "outputs": []
    },
    {
      "cell_type": "code",
      "metadata": {
        "id": "EV8IUdh431FU",
        "colab_type": "code",
        "colab": {}
      },
      "source": [
        "wine_white.rename(columns={'fixed acidity': 'fixed_acidity',\n",
        "                           'citric acid':'citric_acid',\n",
        "                           'volatile acidity':'volatile_acidity',\n",
        "                           'residual sugar':'residual_sugar',\n",
        "                           'free sulfur dioxide':'free_sulfur_dioxide',\n",
        "                           'total sulfur dioxide':'total_sulfur_dioxide'}, inplace=True)"
      ],
      "execution_count": 0,
      "outputs": []
    },
    {
      "cell_type": "code",
      "metadata": {
        "id": "AXjRAAd_4DY9",
        "colab_type": "code",
        "colab": {}
      },
      "source": [
        "wine_all.rename(columns={'fixed acidity': 'fixed_acidity',\n",
        "                         'citric acid':'citric_acid',\n",
        "                         'volatile acidity':'volatile_acidity',\n",
        "                         'residual sugar':'residual_sugar',\n",
        "                         'free sulfur dioxide':'free_sulfur_dioxide',\n",
        "                         'total sulfur dioxide':'total_sulfur_dioxide'}, inplace=True)"
      ],
      "execution_count": 0,
      "outputs": []
    },
    {
      "cell_type": "markdown",
      "metadata": {
        "id": "6MzXQ8UmQBeb",
        "colab_type": "text"
      },
      "source": [
        "**2. Exploratory Data Analysis**"
      ]
    },
    {
      "cell_type": "markdown",
      "metadata": {
        "id": "3wAFMA3-Bgeg",
        "colab_type": "text"
      },
      "source": [
        "2.1 Assess Data Quality & Missing Values"
      ]
    },
    {
      "cell_type": "code",
      "metadata": {
        "id": "o13zyFymHORk",
        "colab_type": "code",
        "outputId": "331c634b-5527-411b-a4a4-15513db50579",
        "colab": {
          "base_uri": "https://localhost:8080/",
          "height": 51
        }
      },
      "source": [
        "print('The mean quality of white wine is {}'.format(wine_white['quality'].mean()))\n",
        "print('The mean quality of red wine is {}'.format(wine_red['quality'].mean()))"
      ],
      "execution_count": 0,
      "outputs": [
        {
          "output_type": "stream",
          "text": [
            "The mean quality of white wine is 5.87790935075541\n",
            "The mean quality of red wine is 5.6360225140712945\n"
          ],
          "name": "stdout"
        }
      ]
    },
    {
      "cell_type": "code",
      "metadata": {
        "id": "V_w2qWV2BX1z",
        "colab_type": "code",
        "outputId": "d6701d38-f0b6-4048-fb28-ad37f4b2bbcc",
        "colab": {
          "base_uri": "https://localhost:8080/",
          "height": 255
        }
      },
      "source": [
        "wine_all.isnull().sum()"
      ],
      "execution_count": 0,
      "outputs": [
        {
          "output_type": "execute_result",
          "data": {
            "text/plain": [
              "fixed_acidity           0\n",
              "volatile_acidity        0\n",
              "citric_acid             0\n",
              "residual_sugar          0\n",
              "chlorides               0\n",
              "free_sulfur_dioxide     0\n",
              "total_sulfur_dioxide    0\n",
              "density                 0\n",
              "pH                      0\n",
              "sulphates               0\n",
              "alcohol                 0\n",
              "quality                 0\n",
              "color                   0\n",
              "dtype: int64"
            ]
          },
          "metadata": {
            "tags": []
          },
          "execution_count": 10
        }
      ]
    },
    {
      "cell_type": "code",
      "metadata": {
        "id": "_u3tMu6LBdHc",
        "colab_type": "code",
        "outputId": "1b9fa43c-92bd-48fb-ab1c-ea8bb389d229",
        "colab": {
          "base_uri": "https://localhost:8080/",
          "height": 255
        }
      },
      "source": [
        "wine_all.describe"
      ],
      "execution_count": 0,
      "outputs": [
        {
          "output_type": "execute_result",
          "data": {
            "text/plain": [
              "<bound method NDFrame.describe of       fixed_acidity  volatile_acidity  citric_acid  ...  alcohol  quality  color\n",
              "0               7.4              0.70         0.00  ...      9.4        5    red\n",
              "1               7.8              0.88         0.00  ...      9.8        5    red\n",
              "2               7.8              0.76         0.04  ...      9.8        5    red\n",
              "3              11.2              0.28         0.56  ...      9.8        6    red\n",
              "4               7.4              0.70         0.00  ...      9.4        5    red\n",
              "...             ...               ...          ...  ...      ...      ...    ...\n",
              "4893            6.2              0.21         0.29  ...     11.2        6  white\n",
              "4894            6.6              0.32         0.36  ...      9.6        5  white\n",
              "4895            6.5              0.24         0.19  ...      9.4        6  white\n",
              "4896            5.5              0.29         0.30  ...     12.8        7  white\n",
              "4897            6.0              0.21         0.38  ...     11.8        6  white\n",
              "\n",
              "[6497 rows x 13 columns]>"
            ]
          },
          "metadata": {
            "tags": []
          },
          "execution_count": 11
        }
      ]
    },
    {
      "cell_type": "markdown",
      "metadata": {
        "id": "9fw89xXbFO4D",
        "colab_type": "text"
      },
      "source": [
        "2.2 Descriptive Statistics"
      ]
    },
    {
      "cell_type": "code",
      "metadata": {
        "id": "LkX-IO7W_b2l",
        "colab_type": "code",
        "outputId": "a82f3b75-2df0-4a03-bf92-8bd22fc18621",
        "colab": {
          "base_uri": "https://localhost:8080/",
          "height": 224
        }
      },
      "source": [
        "#show the first five rows of the dataset\n",
        "wine_all.head()"
      ],
      "execution_count": 0,
      "outputs": [
        {
          "output_type": "execute_result",
          "data": {
            "text/html": [
              "<div>\n",
              "<style scoped>\n",
              "    .dataframe tbody tr th:only-of-type {\n",
              "        vertical-align: middle;\n",
              "    }\n",
              "\n",
              "    .dataframe tbody tr th {\n",
              "        vertical-align: top;\n",
              "    }\n",
              "\n",
              "    .dataframe thead th {\n",
              "        text-align: right;\n",
              "    }\n",
              "</style>\n",
              "<table border=\"1\" class=\"dataframe\">\n",
              "  <thead>\n",
              "    <tr style=\"text-align: right;\">\n",
              "      <th></th>\n",
              "      <th>fixed_acidity</th>\n",
              "      <th>volatile_acidity</th>\n",
              "      <th>citric_acid</th>\n",
              "      <th>residual_sugar</th>\n",
              "      <th>chlorides</th>\n",
              "      <th>free_sulfur_dioxide</th>\n",
              "      <th>total_sulfur_dioxide</th>\n",
              "      <th>density</th>\n",
              "      <th>pH</th>\n",
              "      <th>sulphates</th>\n",
              "      <th>alcohol</th>\n",
              "      <th>quality</th>\n",
              "      <th>color</th>\n",
              "    </tr>\n",
              "  </thead>\n",
              "  <tbody>\n",
              "    <tr>\n",
              "      <th>0</th>\n",
              "      <td>7.4</td>\n",
              "      <td>0.70</td>\n",
              "      <td>0.00</td>\n",
              "      <td>1.9</td>\n",
              "      <td>0.076</td>\n",
              "      <td>11.0</td>\n",
              "      <td>34.0</td>\n",
              "      <td>0.9978</td>\n",
              "      <td>3.51</td>\n",
              "      <td>0.56</td>\n",
              "      <td>9.4</td>\n",
              "      <td>5</td>\n",
              "      <td>red</td>\n",
              "    </tr>\n",
              "    <tr>\n",
              "      <th>1</th>\n",
              "      <td>7.8</td>\n",
              "      <td>0.88</td>\n",
              "      <td>0.00</td>\n",
              "      <td>2.6</td>\n",
              "      <td>0.098</td>\n",
              "      <td>25.0</td>\n",
              "      <td>67.0</td>\n",
              "      <td>0.9968</td>\n",
              "      <td>3.20</td>\n",
              "      <td>0.68</td>\n",
              "      <td>9.8</td>\n",
              "      <td>5</td>\n",
              "      <td>red</td>\n",
              "    </tr>\n",
              "    <tr>\n",
              "      <th>2</th>\n",
              "      <td>7.8</td>\n",
              "      <td>0.76</td>\n",
              "      <td>0.04</td>\n",
              "      <td>2.3</td>\n",
              "      <td>0.092</td>\n",
              "      <td>15.0</td>\n",
              "      <td>54.0</td>\n",
              "      <td>0.9970</td>\n",
              "      <td>3.26</td>\n",
              "      <td>0.65</td>\n",
              "      <td>9.8</td>\n",
              "      <td>5</td>\n",
              "      <td>red</td>\n",
              "    </tr>\n",
              "    <tr>\n",
              "      <th>3</th>\n",
              "      <td>11.2</td>\n",
              "      <td>0.28</td>\n",
              "      <td>0.56</td>\n",
              "      <td>1.9</td>\n",
              "      <td>0.075</td>\n",
              "      <td>17.0</td>\n",
              "      <td>60.0</td>\n",
              "      <td>0.9980</td>\n",
              "      <td>3.16</td>\n",
              "      <td>0.58</td>\n",
              "      <td>9.8</td>\n",
              "      <td>6</td>\n",
              "      <td>red</td>\n",
              "    </tr>\n",
              "    <tr>\n",
              "      <th>4</th>\n",
              "      <td>7.4</td>\n",
              "      <td>0.70</td>\n",
              "      <td>0.00</td>\n",
              "      <td>1.9</td>\n",
              "      <td>0.076</td>\n",
              "      <td>11.0</td>\n",
              "      <td>34.0</td>\n",
              "      <td>0.9978</td>\n",
              "      <td>3.51</td>\n",
              "      <td>0.56</td>\n",
              "      <td>9.4</td>\n",
              "      <td>5</td>\n",
              "      <td>red</td>\n",
              "    </tr>\n",
              "  </tbody>\n",
              "</table>\n",
              "</div>"
            ],
            "text/plain": [
              "   fixed_acidity  volatile_acidity  citric_acid  ...  alcohol  quality  color\n",
              "0            7.4              0.70         0.00  ...      9.4        5    red\n",
              "1            7.8              0.88         0.00  ...      9.8        5    red\n",
              "2            7.8              0.76         0.04  ...      9.8        5    red\n",
              "3           11.2              0.28         0.56  ...      9.8        6    red\n",
              "4            7.4              0.70         0.00  ...      9.4        5    red\n",
              "\n",
              "[5 rows x 13 columns]"
            ]
          },
          "metadata": {
            "tags": []
          },
          "execution_count": 12
        }
      ]
    },
    {
      "cell_type": "code",
      "metadata": {
        "id": "zg-oF2f-Aezn",
        "colab_type": "code",
        "outputId": "be423b74-2732-49d2-b814-bc7963ce478f",
        "colab": {
          "base_uri": "https://localhost:8080/",
          "height": 224
        }
      },
      "source": [
        "#show the last five rows of the dataset\n",
        "wine_all.tail()"
      ],
      "execution_count": 0,
      "outputs": [
        {
          "output_type": "execute_result",
          "data": {
            "text/html": [
              "<div>\n",
              "<style scoped>\n",
              "    .dataframe tbody tr th:only-of-type {\n",
              "        vertical-align: middle;\n",
              "    }\n",
              "\n",
              "    .dataframe tbody tr th {\n",
              "        vertical-align: top;\n",
              "    }\n",
              "\n",
              "    .dataframe thead th {\n",
              "        text-align: right;\n",
              "    }\n",
              "</style>\n",
              "<table border=\"1\" class=\"dataframe\">\n",
              "  <thead>\n",
              "    <tr style=\"text-align: right;\">\n",
              "      <th></th>\n",
              "      <th>fixed_acidity</th>\n",
              "      <th>volatile_acidity</th>\n",
              "      <th>citric_acid</th>\n",
              "      <th>residual_sugar</th>\n",
              "      <th>chlorides</th>\n",
              "      <th>free_sulfur_dioxide</th>\n",
              "      <th>total_sulfur_dioxide</th>\n",
              "      <th>density</th>\n",
              "      <th>pH</th>\n",
              "      <th>sulphates</th>\n",
              "      <th>alcohol</th>\n",
              "      <th>quality</th>\n",
              "      <th>color</th>\n",
              "    </tr>\n",
              "  </thead>\n",
              "  <tbody>\n",
              "    <tr>\n",
              "      <th>4893</th>\n",
              "      <td>6.2</td>\n",
              "      <td>0.21</td>\n",
              "      <td>0.29</td>\n",
              "      <td>1.6</td>\n",
              "      <td>0.039</td>\n",
              "      <td>24.0</td>\n",
              "      <td>92.0</td>\n",
              "      <td>0.99114</td>\n",
              "      <td>3.27</td>\n",
              "      <td>0.50</td>\n",
              "      <td>11.2</td>\n",
              "      <td>6</td>\n",
              "      <td>white</td>\n",
              "    </tr>\n",
              "    <tr>\n",
              "      <th>4894</th>\n",
              "      <td>6.6</td>\n",
              "      <td>0.32</td>\n",
              "      <td>0.36</td>\n",
              "      <td>8.0</td>\n",
              "      <td>0.047</td>\n",
              "      <td>57.0</td>\n",
              "      <td>168.0</td>\n",
              "      <td>0.99490</td>\n",
              "      <td>3.15</td>\n",
              "      <td>0.46</td>\n",
              "      <td>9.6</td>\n",
              "      <td>5</td>\n",
              "      <td>white</td>\n",
              "    </tr>\n",
              "    <tr>\n",
              "      <th>4895</th>\n",
              "      <td>6.5</td>\n",
              "      <td>0.24</td>\n",
              "      <td>0.19</td>\n",
              "      <td>1.2</td>\n",
              "      <td>0.041</td>\n",
              "      <td>30.0</td>\n",
              "      <td>111.0</td>\n",
              "      <td>0.99254</td>\n",
              "      <td>2.99</td>\n",
              "      <td>0.46</td>\n",
              "      <td>9.4</td>\n",
              "      <td>6</td>\n",
              "      <td>white</td>\n",
              "    </tr>\n",
              "    <tr>\n",
              "      <th>4896</th>\n",
              "      <td>5.5</td>\n",
              "      <td>0.29</td>\n",
              "      <td>0.30</td>\n",
              "      <td>1.1</td>\n",
              "      <td>0.022</td>\n",
              "      <td>20.0</td>\n",
              "      <td>110.0</td>\n",
              "      <td>0.98869</td>\n",
              "      <td>3.34</td>\n",
              "      <td>0.38</td>\n",
              "      <td>12.8</td>\n",
              "      <td>7</td>\n",
              "      <td>white</td>\n",
              "    </tr>\n",
              "    <tr>\n",
              "      <th>4897</th>\n",
              "      <td>6.0</td>\n",
              "      <td>0.21</td>\n",
              "      <td>0.38</td>\n",
              "      <td>0.8</td>\n",
              "      <td>0.020</td>\n",
              "      <td>22.0</td>\n",
              "      <td>98.0</td>\n",
              "      <td>0.98941</td>\n",
              "      <td>3.26</td>\n",
              "      <td>0.32</td>\n",
              "      <td>11.8</td>\n",
              "      <td>6</td>\n",
              "      <td>white</td>\n",
              "    </tr>\n",
              "  </tbody>\n",
              "</table>\n",
              "</div>"
            ],
            "text/plain": [
              "      fixed_acidity  volatile_acidity  citric_acid  ...  alcohol  quality  color\n",
              "4893            6.2              0.21         0.29  ...     11.2        6  white\n",
              "4894            6.6              0.32         0.36  ...      9.6        5  white\n",
              "4895            6.5              0.24         0.19  ...      9.4        6  white\n",
              "4896            5.5              0.29         0.30  ...     12.8        7  white\n",
              "4897            6.0              0.21         0.38  ...     11.8        6  white\n",
              "\n",
              "[5 rows x 13 columns]"
            ]
          },
          "metadata": {
            "tags": []
          },
          "execution_count": 13
        }
      ]
    },
    {
      "cell_type": "code",
      "metadata": {
        "id": "hOmTpAXU4TAt",
        "colab_type": "code",
        "outputId": "d3091bcb-fa86-4155-9817-c228379f1940",
        "colab": {
          "base_uri": "https://localhost:8080/",
          "height": 85
        }
      },
      "source": [
        "#print out all column names \n",
        "wine_all.columns"
      ],
      "execution_count": 0,
      "outputs": [
        {
          "output_type": "execute_result",
          "data": {
            "text/plain": [
              "Index(['fixed_acidity', 'volatile_acidity', 'citric_acid', 'residual_sugar',\n",
              "       'chlorides', 'free_sulfur_dioxide', 'total_sulfur_dioxide', 'density',\n",
              "       'pH', 'sulphates', 'alcohol', 'quality', 'color'],\n",
              "      dtype='object')"
            ]
          },
          "metadata": {
            "tags": []
          },
          "execution_count": 14
        }
      ]
    },
    {
      "cell_type": "code",
      "metadata": {
        "id": "YVs0GJZuAq0L",
        "colab_type": "code",
        "outputId": "2ef66ad2-452c-4f32-fd02-9039ba1a89b6",
        "colab": {
          "base_uri": "https://localhost:8080/",
          "height": 255
        }
      },
      "source": [
        "#data types of each columns\n",
        "wine_all.dtypes"
      ],
      "execution_count": 0,
      "outputs": [
        {
          "output_type": "execute_result",
          "data": {
            "text/plain": [
              "fixed_acidity           float64\n",
              "volatile_acidity        float64\n",
              "citric_acid             float64\n",
              "residual_sugar          float64\n",
              "chlorides               float64\n",
              "free_sulfur_dioxide     float64\n",
              "total_sulfur_dioxide    float64\n",
              "density                 float64\n",
              "pH                      float64\n",
              "sulphates               float64\n",
              "alcohol                 float64\n",
              "quality                   int64\n",
              "color                    object\n",
              "dtype: object"
            ]
          },
          "metadata": {
            "tags": []
          },
          "execution_count": 15
        }
      ]
    },
    {
      "cell_type": "code",
      "metadata": {
        "id": "3qWY145CAzpF",
        "colab_type": "code",
        "outputId": "d481533a-1ddb-48d7-b8de-4bf09f34ad21",
        "colab": {
          "base_uri": "https://localhost:8080/",
          "height": 34
        }
      },
      "source": [
        "#size of the dataframe\n",
        "wine_all.shape"
      ],
      "execution_count": 0,
      "outputs": [
        {
          "output_type": "execute_result",
          "data": {
            "text/plain": [
              "(6497, 13)"
            ]
          },
          "metadata": {
            "tags": []
          },
          "execution_count": 16
        }
      ]
    },
    {
      "cell_type": "code",
      "metadata": {
        "id": "Y8kUdj9N4YGx",
        "colab_type": "code",
        "colab": {}
      },
      "source": [
        "#convert the color column into dummy variables\n",
        "wine = pd.get_dummies(wine_all, columns=[\"color\"])"
      ],
      "execution_count": 0,
      "outputs": []
    },
    {
      "cell_type": "code",
      "metadata": {
        "id": "KGbGMlUABHxE",
        "colab_type": "code",
        "outputId": "6c65465a-8171-47a4-89d8-965e49812400",
        "colab": {
          "base_uri": "https://localhost:8080/",
          "height": 68
        }
      },
      "source": [
        "wine[\"color_red\"].value_counts()"
      ],
      "execution_count": 0,
      "outputs": [
        {
          "output_type": "execute_result",
          "data": {
            "text/plain": [
              "0    4898\n",
              "1    1599\n",
              "Name: color_red, dtype: int64"
            ]
          },
          "metadata": {
            "tags": []
          },
          "execution_count": 18
        }
      ]
    },
    {
      "cell_type": "code",
      "metadata": {
        "id": "DtYkPOilB0JY",
        "colab_type": "code",
        "outputId": "d93fd5af-6054-4a31-f820-6e5d13e6975c",
        "colab": {
          "base_uri": "https://localhost:8080/",
          "height": 85
        }
      },
      "source": [
        "wine.groupby('color_white').size()"
      ],
      "execution_count": 0,
      "outputs": [
        {
          "output_type": "execute_result",
          "data": {
            "text/plain": [
              "color_white\n",
              "0    1599\n",
              "1    4898\n",
              "dtype: int64"
            ]
          },
          "metadata": {
            "tags": []
          },
          "execution_count": 19
        }
      ]
    },
    {
      "cell_type": "code",
      "metadata": {
        "id": "nBLvNio04biG",
        "colab_type": "code",
        "outputId": "a2ade729-91f4-4e30-83b4-b7423ba3898e",
        "colab": {
          "base_uri": "https://localhost:8080/",
          "height": 439
        }
      },
      "source": [
        "display(wine)"
      ],
      "execution_count": 0,
      "outputs": [
        {
          "output_type": "display_data",
          "data": {
            "text/html": [
              "<div>\n",
              "<style scoped>\n",
              "    .dataframe tbody tr th:only-of-type {\n",
              "        vertical-align: middle;\n",
              "    }\n",
              "\n",
              "    .dataframe tbody tr th {\n",
              "        vertical-align: top;\n",
              "    }\n",
              "\n",
              "    .dataframe thead th {\n",
              "        text-align: right;\n",
              "    }\n",
              "</style>\n",
              "<table border=\"1\" class=\"dataframe\">\n",
              "  <thead>\n",
              "    <tr style=\"text-align: right;\">\n",
              "      <th></th>\n",
              "      <th>fixed_acidity</th>\n",
              "      <th>volatile_acidity</th>\n",
              "      <th>citric_acid</th>\n",
              "      <th>residual_sugar</th>\n",
              "      <th>chlorides</th>\n",
              "      <th>free_sulfur_dioxide</th>\n",
              "      <th>total_sulfur_dioxide</th>\n",
              "      <th>density</th>\n",
              "      <th>pH</th>\n",
              "      <th>sulphates</th>\n",
              "      <th>alcohol</th>\n",
              "      <th>quality</th>\n",
              "      <th>color_red</th>\n",
              "      <th>color_white</th>\n",
              "    </tr>\n",
              "  </thead>\n",
              "  <tbody>\n",
              "    <tr>\n",
              "      <th>0</th>\n",
              "      <td>7.4</td>\n",
              "      <td>0.70</td>\n",
              "      <td>0.00</td>\n",
              "      <td>1.9</td>\n",
              "      <td>0.076</td>\n",
              "      <td>11.0</td>\n",
              "      <td>34.0</td>\n",
              "      <td>0.99780</td>\n",
              "      <td>3.51</td>\n",
              "      <td>0.56</td>\n",
              "      <td>9.4</td>\n",
              "      <td>5</td>\n",
              "      <td>1</td>\n",
              "      <td>0</td>\n",
              "    </tr>\n",
              "    <tr>\n",
              "      <th>1</th>\n",
              "      <td>7.8</td>\n",
              "      <td>0.88</td>\n",
              "      <td>0.00</td>\n",
              "      <td>2.6</td>\n",
              "      <td>0.098</td>\n",
              "      <td>25.0</td>\n",
              "      <td>67.0</td>\n",
              "      <td>0.99680</td>\n",
              "      <td>3.20</td>\n",
              "      <td>0.68</td>\n",
              "      <td>9.8</td>\n",
              "      <td>5</td>\n",
              "      <td>1</td>\n",
              "      <td>0</td>\n",
              "    </tr>\n",
              "    <tr>\n",
              "      <th>2</th>\n",
              "      <td>7.8</td>\n",
              "      <td>0.76</td>\n",
              "      <td>0.04</td>\n",
              "      <td>2.3</td>\n",
              "      <td>0.092</td>\n",
              "      <td>15.0</td>\n",
              "      <td>54.0</td>\n",
              "      <td>0.99700</td>\n",
              "      <td>3.26</td>\n",
              "      <td>0.65</td>\n",
              "      <td>9.8</td>\n",
              "      <td>5</td>\n",
              "      <td>1</td>\n",
              "      <td>0</td>\n",
              "    </tr>\n",
              "    <tr>\n",
              "      <th>3</th>\n",
              "      <td>11.2</td>\n",
              "      <td>0.28</td>\n",
              "      <td>0.56</td>\n",
              "      <td>1.9</td>\n",
              "      <td>0.075</td>\n",
              "      <td>17.0</td>\n",
              "      <td>60.0</td>\n",
              "      <td>0.99800</td>\n",
              "      <td>3.16</td>\n",
              "      <td>0.58</td>\n",
              "      <td>9.8</td>\n",
              "      <td>6</td>\n",
              "      <td>1</td>\n",
              "      <td>0</td>\n",
              "    </tr>\n",
              "    <tr>\n",
              "      <th>4</th>\n",
              "      <td>7.4</td>\n",
              "      <td>0.70</td>\n",
              "      <td>0.00</td>\n",
              "      <td>1.9</td>\n",
              "      <td>0.076</td>\n",
              "      <td>11.0</td>\n",
              "      <td>34.0</td>\n",
              "      <td>0.99780</td>\n",
              "      <td>3.51</td>\n",
              "      <td>0.56</td>\n",
              "      <td>9.4</td>\n",
              "      <td>5</td>\n",
              "      <td>1</td>\n",
              "      <td>0</td>\n",
              "    </tr>\n",
              "    <tr>\n",
              "      <th>...</th>\n",
              "      <td>...</td>\n",
              "      <td>...</td>\n",
              "      <td>...</td>\n",
              "      <td>...</td>\n",
              "      <td>...</td>\n",
              "      <td>...</td>\n",
              "      <td>...</td>\n",
              "      <td>...</td>\n",
              "      <td>...</td>\n",
              "      <td>...</td>\n",
              "      <td>...</td>\n",
              "      <td>...</td>\n",
              "      <td>...</td>\n",
              "      <td>...</td>\n",
              "    </tr>\n",
              "    <tr>\n",
              "      <th>4893</th>\n",
              "      <td>6.2</td>\n",
              "      <td>0.21</td>\n",
              "      <td>0.29</td>\n",
              "      <td>1.6</td>\n",
              "      <td>0.039</td>\n",
              "      <td>24.0</td>\n",
              "      <td>92.0</td>\n",
              "      <td>0.99114</td>\n",
              "      <td>3.27</td>\n",
              "      <td>0.50</td>\n",
              "      <td>11.2</td>\n",
              "      <td>6</td>\n",
              "      <td>0</td>\n",
              "      <td>1</td>\n",
              "    </tr>\n",
              "    <tr>\n",
              "      <th>4894</th>\n",
              "      <td>6.6</td>\n",
              "      <td>0.32</td>\n",
              "      <td>0.36</td>\n",
              "      <td>8.0</td>\n",
              "      <td>0.047</td>\n",
              "      <td>57.0</td>\n",
              "      <td>168.0</td>\n",
              "      <td>0.99490</td>\n",
              "      <td>3.15</td>\n",
              "      <td>0.46</td>\n",
              "      <td>9.6</td>\n",
              "      <td>5</td>\n",
              "      <td>0</td>\n",
              "      <td>1</td>\n",
              "    </tr>\n",
              "    <tr>\n",
              "      <th>4895</th>\n",
              "      <td>6.5</td>\n",
              "      <td>0.24</td>\n",
              "      <td>0.19</td>\n",
              "      <td>1.2</td>\n",
              "      <td>0.041</td>\n",
              "      <td>30.0</td>\n",
              "      <td>111.0</td>\n",
              "      <td>0.99254</td>\n",
              "      <td>2.99</td>\n",
              "      <td>0.46</td>\n",
              "      <td>9.4</td>\n",
              "      <td>6</td>\n",
              "      <td>0</td>\n",
              "      <td>1</td>\n",
              "    </tr>\n",
              "    <tr>\n",
              "      <th>4896</th>\n",
              "      <td>5.5</td>\n",
              "      <td>0.29</td>\n",
              "      <td>0.30</td>\n",
              "      <td>1.1</td>\n",
              "      <td>0.022</td>\n",
              "      <td>20.0</td>\n",
              "      <td>110.0</td>\n",
              "      <td>0.98869</td>\n",
              "      <td>3.34</td>\n",
              "      <td>0.38</td>\n",
              "      <td>12.8</td>\n",
              "      <td>7</td>\n",
              "      <td>0</td>\n",
              "      <td>1</td>\n",
              "    </tr>\n",
              "    <tr>\n",
              "      <th>4897</th>\n",
              "      <td>6.0</td>\n",
              "      <td>0.21</td>\n",
              "      <td>0.38</td>\n",
              "      <td>0.8</td>\n",
              "      <td>0.020</td>\n",
              "      <td>22.0</td>\n",
              "      <td>98.0</td>\n",
              "      <td>0.98941</td>\n",
              "      <td>3.26</td>\n",
              "      <td>0.32</td>\n",
              "      <td>11.8</td>\n",
              "      <td>6</td>\n",
              "      <td>0</td>\n",
              "      <td>1</td>\n",
              "    </tr>\n",
              "  </tbody>\n",
              "</table>\n",
              "<p>6497 rows × 14 columns</p>\n",
              "</div>"
            ],
            "text/plain": [
              "      fixed_acidity  volatile_acidity  ...  color_red  color_white\n",
              "0               7.4              0.70  ...          1            0\n",
              "1               7.8              0.88  ...          1            0\n",
              "2               7.8              0.76  ...          1            0\n",
              "3              11.2              0.28  ...          1            0\n",
              "4               7.4              0.70  ...          1            0\n",
              "...             ...               ...  ...        ...          ...\n",
              "4893            6.2              0.21  ...          0            1\n",
              "4894            6.6              0.32  ...          0            1\n",
              "4895            6.5              0.24  ...          0            1\n",
              "4896            5.5              0.29  ...          0            1\n",
              "4897            6.0              0.21  ...          0            1\n",
              "\n",
              "[6497 rows x 14 columns]"
            ]
          },
          "metadata": {
            "tags": []
          }
        }
      ]
    },
    {
      "cell_type": "markdown",
      "metadata": {
        "id": "fFq5VoYb_ebH",
        "colab_type": "text"
      },
      "source": [
        "2.3 Data Visualizations"
      ]
    },
    {
      "cell_type": "markdown",
      "metadata": {
        "id": "ZH3eSnRvLA80",
        "colab_type": "text"
      },
      "source": [
        "a. Univariate Exploratory Data Analysis"
      ]
    },
    {
      "cell_type": "code",
      "metadata": {
        "id": "VnSQi_SnKqmo",
        "colab_type": "code",
        "outputId": "b3562567-464f-4be5-a3cd-ac3cf4bc3bc0",
        "colab": {
          "base_uri": "https://localhost:8080/",
          "height": 284
        }
      },
      "source": [
        "# Histograms for each attribute\n",
        "wine.hist()\n",
        "pyplot.show()"
      ],
      "execution_count": 0,
      "outputs": [
        {
          "output_type": "display_data",
          "data": {
            "image/png": "[encoded data removed]",
            "text/plain": [
              "<Figure size 432x288 with 16 Axes>"
            ]
          },
          "metadata": {
            "tags": []
          }
        }
      ]
    },
    {
      "cell_type": "code",
      "metadata": {
        "id": "yfKdAN9pKyND",
        "colab_type": "code",
        "outputId": "a7a68a9c-a77a-42b1-c425-50dfabeeafbc",
        "colab": {
          "base_uri": "https://localhost:8080/",
          "height": 302
        }
      },
      "source": [
        "#Boxplots\n",
        "sns.boxplot(x=\"pH\", y=\"alcohol\", data=wine)"
      ],
      "execution_count": 0,
      "outputs": [
        {
          "output_type": "execute_result",
          "data": {
            "text/plain": [
              "<matplotlib.axes._subplots.AxesSubplot at 0x7fceda8d0e48>"
            ]
          },
          "metadata": {
            "tags": []
          },
          "execution_count": 22
        },
        {
          "output_type": "display_data",
          "data": {
            "image/png": "[encoded data removed]",
            "text/plain": [
              "<Figure size 432x288 with 1 Axes>"
            ]
          },
          "metadata": {
            "tags": []
          }
        }
      ]
    },
    {
      "cell_type": "markdown",
      "metadata": {
        "id": "fGo-S4l2CsOh",
        "colab_type": "text"
      },
      "source": [
        "b. Bivariate Exploratory Data Analysis"
      ]
    },
    {
      "cell_type": "code",
      "metadata": {
        "id": "Hx5gvrGX_wh7",
        "colab_type": "code",
        "outputId": "ea10a289-8561-4fb8-a715-5716eb3e65eb",
        "colab": {
          "base_uri": "https://localhost:8080/",
          "height": 594
        }
      },
      "source": [
        "#Categorical plots\n",
        "sns.catplot(x = 'fixed_acidity', y = 'quality', data = wine, kind = \"bar\", height = 20, aspect = 2);"
      ],
      "execution_count": 0,
      "outputs": [
        {
          "output_type": "display_data",
          "data": {
            "image/png": "[encoded data removed]",
            "text/plain": [
              "<Figure size 2880x1440 with 1 Axes>"
            ]
          },
          "metadata": {
            "tags": []
          }
        }
      ]
    },
    {
      "cell_type": "code",
      "metadata": {
        "id": "YL7o6MZ7C2dW",
        "colab_type": "code",
        "outputId": "5eb0180c-fe4a-4552-fcdf-0741fe8febfb",
        "colab": {
          "base_uri": "https://localhost:8080/",
          "height": 285
        }
      },
      "source": [
        "#Scatter plots\n",
        "sns.scatterplot(x = \"residual_sugar\",  y = \"quality\", data = wine, hue = \"color_red\");"
      ],
      "execution_count": 0,
      "outputs": [
        {
          "output_type": "display_data",
          "data": {
            "image/png": "[encoded data removed]",
            "text/plain": [
              "<Figure size 432x288 with 1 Axes>"
            ]
          },
          "metadata": {
            "tags": []
          }
        }
      ]
    },
    {
      "cell_type": "code",
      "metadata": {
        "id": "QKRRHSY-PKrS",
        "colab_type": "code",
        "outputId": "9e44e4fb-362f-4008-f64c-0db625c92a0b",
        "colab": {
          "base_uri": "https://localhost:8080/",
          "height": 274
        }
      },
      "source": [
        "# Correlation matrix\n",
        "fig = pyplot.figure()\n",
        "ax = fig.add_subplot(111)\n",
        "cax = ax.matshow(wine.corr(), vmin=-1, vmax=1)\n",
        "fig.colorbar(cax)\n",
        "pyplot.show()"
      ],
      "execution_count": 0,
      "outputs": [
        {
          "output_type": "display_data",
          "data": {
            "image/png": "[encoded data removed]",
            "text/plain": [
              "<Figure size 432x288 with 2 Axes>"
            ]
          },
          "metadata": {
            "tags": []
          }
        }
      ]
    },
    {
      "cell_type": "markdown",
      "metadata": {
        "id": "qgalS2AWB21v",
        "colab_type": "text"
      },
      "source": [
        "**3. Model Training**"
      ]
    },
    {
      "cell_type": "markdown",
      "metadata": {
        "id": "zjP_DjxdB56W",
        "colab_type": "text"
      },
      "source": [
        "3.1 Predicting the Quality (Regression)\n"
      ]
    },
    {
      "cell_type": "markdown",
      "metadata": {
        "id": "MsxJW_2_addg",
        "colab_type": "text"
      },
      "source": [
        "a. Data Preparation"
      ]
    },
    {
      "cell_type": "markdown",
      "metadata": {
        "id": "jX0t-siJGK8a",
        "colab_type": "text"
      },
      "source": [
        "Split the data into train and test test. I use 80% of the sample for training and 20% for testing."
      ]
    },
    {
      "cell_type": "code",
      "metadata": {
        "id": "DXnQLIx6O-js",
        "colab_type": "code",
        "colab": {}
      },
      "source": [
        "X = wine\n",
        "X = X.drop(columns=['quality'], axis=1)\n",
        "y = wine.quality"
      ],
      "execution_count": 0,
      "outputs": []
    },
    {
      "cell_type": "code",
      "metadata": {
        "id": "vb-w5i5YB7Oj",
        "colab_type": "code",
        "colab": {}
      },
      "source": [
        "from sklearn.model_selection import train_test_split\n",
        "X_train, X_test, y_train, y_test = train_test_split(X, y, test_size = 0.20, random_state = 1)"
      ],
      "execution_count": 0,
      "outputs": []
    },
    {
      "cell_type": "code",
      "metadata": {
        "id": "SZ6uurdDSQs5",
        "colab_type": "code",
        "outputId": "68367704-c140-45f4-b5dc-d858b13273fb",
        "colab": {
          "base_uri": "https://localhost:8080/",
          "height": 85
        }
      },
      "source": [
        "print('The lenghth of X_train is {}'.format(len(X_train)))\n",
        "print('The lenghth of X_test is {}'.format(len(X_test)))\n",
        "print('The lenghth of y_train is {}'.format(len(y_train)))\n",
        "print('The lenghth of y_test is {}'.format(len(y_test)))"
      ],
      "execution_count": 0,
      "outputs": [
        {
          "output_type": "stream",
          "text": [
            "The lenghth of X_train is 5197\n",
            "The lenghth of X_test is 1300\n",
            "The lenghth of y_train is 5197\n",
            "The lenghth of y_test is 1300\n"
          ],
          "name": "stdout"
        }
      ]
    },
    {
      "cell_type": "markdown",
      "metadata": {
        "id": "4rAMK36JQnw6",
        "colab_type": "text"
      },
      "source": [
        "b. Training"
      ]
    },
    {
      "cell_type": "markdown",
      "metadata": {
        "id": "9Kvm5qp-Qrzf",
        "colab_type": "text"
      },
      "source": [
        "(i) Linear Regression"
      ]
    },
    {
      "cell_type": "code",
      "metadata": {
        "id": "OC7E7A-1Qw7W",
        "colab_type": "code",
        "outputId": "3589c83c-b58d-48fb-9fd2-1046a6ac769e",
        "colab": {
          "base_uri": "https://localhost:8080/",
          "height": 302
        }
      },
      "source": [
        "LiR = LinearRegression()\n",
        "LiR.fit(X_train, y_train)\n",
        "LiR_pred = LiR.predict(X_test)\n",
        "sns.regplot(y_test, LiR_pred)\n",
        "plt.xlabel(\"Observed\")\n",
        "plt.ylabel(\"Predicted\")"
      ],
      "execution_count": 0,
      "outputs": [
        {
          "output_type": "execute_result",
          "data": {
            "text/plain": [
              "Text(0, 0.5, 'Predicted')"
            ]
          },
          "metadata": {
            "tags": []
          },
          "execution_count": 29
        },
        {
          "output_type": "display_data",
          "data": {
            "image/png": "[encoded data removed]",
            "text/plain": [
              "<Figure size 432x288 with 1 Axes>"
            ]
          },
          "metadata": {
            "tags": []
          }
        }
      ]
    },
    {
      "cell_type": "code",
      "metadata": {
        "id": "MJCltbJGRn2S",
        "colab_type": "code",
        "outputId": "8368feba-5944-4088-c24d-75a2354e868f",
        "colab": {
          "base_uri": "https://localhost:8080/",
          "height": 85
        }
      },
      "source": [
        "LiR_mae = mean_absolute_error(y_test, LiR_pred)\n",
        "LiR_r2 = r2_score(y_test, LiR_pred)\n",
        "print(\"The model performance for baseline model is:\")\n",
        "print(\"---------------------------------------------\")\n",
        "print('Mean Absolute error is {}'.format(LiR_mae))\n",
        "print('R2 score is {}'.format(LiR_r2))"
      ],
      "execution_count": 0,
      "outputs": [
        {
          "output_type": "stream",
          "text": [
            "The model performance for baseline model is:\n",
            "---------------------------------------------\n",
            "Mean Absolute error is 0.5667943085622551\n",
            "R2 score is 0.2772410346805715\n"
          ],
          "name": "stdout"
        }
      ]
    },
    {
      "cell_type": "markdown",
      "metadata": {
        "id": "9oU8c1IYSeFA",
        "colab_type": "text"
      },
      "source": [
        "(ii) Lasso regression"
      ]
    },
    {
      "cell_type": "code",
      "metadata": {
        "id": "_xWo-TjtSrxI",
        "colab_type": "code",
        "colab": {}
      },
      "source": [
        "rsq = list()\n",
        "alphas = np.linspace(0.001, 1, num=20)\n",
        "for alpha in alphas:\n",
        "    reg_lasso = Lasso(alpha=alpha)\n",
        "    reg_lasso.fit(X, y)\n",
        "    rsq.append(reg_lasso.score(X_test,y_test))"
      ],
      "execution_count": 0,
      "outputs": []
    },
    {
      "cell_type": "code",
      "metadata": {
        "id": "aRHy52KHS08v",
        "colab_type": "code",
        "outputId": "3bfe02b6-556d-4d74-c3d4-dc72b9790187",
        "colab": {
          "base_uri": "https://localhost:8080/",
          "height": 285
        }
      },
      "source": [
        "plt.plot(alphas,rsq)\n"
      ],
      "execution_count": 0,
      "outputs": [
        {
          "output_type": "execute_result",
          "data": {
            "text/plain": [
              "[<matplotlib.lines.Line2D at 0x7fced6f73400>]"
            ]
          },
          "metadata": {
            "tags": []
          },
          "execution_count": 32
        },
        {
          "output_type": "display_data",
          "data": {
            "image/png": "[encoded data removed]",
            "text/plain": [
              "<Figure size 432x288 with 1 Axes>"
            ]
          },
          "metadata": {
            "tags": []
          }
        }
      ]
    },
    {
      "cell_type": "code",
      "metadata": {
        "id": "4Eb8JgXrS6kw",
        "colab_type": "code",
        "outputId": "c9ccfac7-fa60-4265-c496-3b1dbbc239ee",
        "colab": {
          "base_uri": "https://localhost:8080/",
          "height": 51
        }
      },
      "source": [
        "reg_lasso = Lasso(alpha=0.1)\n",
        "reg_lasso.fit(X, y)\n",
        "reg_ridge = Ridge(alpha=0.1)\n",
        "reg_ridge.fit(X, y)"
      ],
      "execution_count": 0,
      "outputs": [
        {
          "output_type": "execute_result",
          "data": {
            "text/plain": [
              "Ridge(alpha=0.1, copy_X=True, fit_intercept=True, max_iter=None,\n",
              "      normalize=False, random_state=None, solver='auto', tol=0.001)"
            ]
          },
          "metadata": {
            "tags": []
          },
          "execution_count": 33
        }
      ]
    },
    {
      "cell_type": "code",
      "metadata": {
        "id": "npLiCx9tS_gE",
        "colab_type": "code",
        "outputId": "e1a5f701-9482-4962-b753-60d976729dd1",
        "colab": {
          "base_uri": "https://localhost:8080/",
          "height": 285
        }
      },
      "source": [
        "plt.plot(reg_ridge.coef_, color = 'b')"
      ],
      "execution_count": 0,
      "outputs": [
        {
          "output_type": "execute_result",
          "data": {
            "text/plain": [
              "[<matplotlib.lines.Line2D at 0x7fced6f54208>]"
            ]
          },
          "metadata": {
            "tags": []
          },
          "execution_count": 34
        },
        {
          "output_type": "display_data",
          "data": {
            "image/png": "[encoded data removed]",
            "text/plain": [
              "<Figure size 432x288 with 1 Axes>"
            ]
          },
          "metadata": {
            "tags": []
          }
        }
      ]
    },
    {
      "cell_type": "markdown",
      "metadata": {
        "id": "qB-jG9xYiBJt",
        "colab_type": "text"
      },
      "source": [
        "(iii) Random Forest Regressor"
      ]
    },
    {
      "cell_type": "code",
      "metadata": {
        "id": "FEPY_qIqh_GI",
        "colab_type": "code",
        "outputId": "7770f7ad-1fef-40e7-f399-44d4e0a3d971",
        "colab": {
          "base_uri": "https://localhost:8080/",
          "height": 302
        }
      },
      "source": [
        "rfr = RandomForestRegressor()\n",
        "rfr.fit(X_train, y_train)\n",
        "rfr_pred = rfr.predict(X_test)\n",
        "sns.regplot(y_test, rfr_pred)\n",
        "plt.xlabel(\"Observed\")\n",
        "plt.ylabel(\"Predicted\")"
      ],
      "execution_count": 0,
      "outputs": [
        {
          "output_type": "execute_result",
          "data": {
            "text/plain": [
              "Text(0, 0.5, 'Predicted')"
            ]
          },
          "metadata": {
            "tags": []
          },
          "execution_count": 35
        },
        {
          "output_type": "display_data",
          "data": {
            "image/png": "[encoded data removed]",
            "text/plain": [
              "<Figure size 432x288 with 1 Axes>"
            ]
          },
          "metadata": {
            "tags": []
          }
        }
      ]
    },
    {
      "cell_type": "code",
      "metadata": {
        "id": "AbyTBQZPiYUW",
        "colab_type": "code",
        "outputId": "57f8e3c3-fa4a-42ff-b8b5-348d53106816",
        "colab": {
          "base_uri": "https://localhost:8080/",
          "height": 85
        }
      },
      "source": [
        "rfr_mae = mean_absolute_error(y_test, rfr_pred)\n",
        "rfr_r2 = r2_score(y_test, rfr_pred)\n",
        "print(\"The model performance for baseline model is:\")\n",
        "print(\"---------------------------------------------\")\n",
        "print('Mean Absolute error is {}'.format(rfr_mae))\n",
        "print('R2 score is {}'.format(rfr_r2))"
      ],
      "execution_count": 0,
      "outputs": [
        {
          "output_type": "stream",
          "text": [
            "The model performance for baseline model is:\n",
            "---------------------------------------------\n",
            "Mean Absolute error is 0.4445615384615385\n",
            "R2 score is 0.4866404771220405\n"
          ],
          "name": "stdout"
        }
      ]
    },
    {
      "cell_type": "markdown",
      "metadata": {
        "id": "2IBs0-ywZMJZ",
        "colab_type": "text"
      },
      "source": [
        "3.2 Predicting the Color (Classification)\n"
      ]
    },
    {
      "cell_type": "markdown",
      "metadata": {
        "id": "qjLS8_vSbzR3",
        "colab_type": "text"
      },
      "source": [
        "a. Data Preparation"
      ]
    },
    {
      "cell_type": "code",
      "metadata": {
        "id": "1ybvdCI8ZSZq",
        "colab_type": "code",
        "colab": {}
      },
      "source": [
        "C = wine_all\n",
        "C = C.drop(columns=['color'], axis=1)\n",
        "c = wine_all['color']"
      ],
      "execution_count": 0,
      "outputs": []
    },
    {
      "cell_type": "markdown",
      "metadata": {
        "id": "SZib-fRXa7BF",
        "colab_type": "text"
      },
      "source": [
        "Split the data into train and test test. I use 80% of the sample for training and 20% for testing."
      ]
    },
    {
      "cell_type": "code",
      "metadata": {
        "id": "agxmKKqvZMgg",
        "colab_type": "code",
        "colab": {}
      },
      "source": [
        "C_train, C_test, c_train, c_test = train_test_split(C, c, test_size = 0.20, random_state = 1)"
      ],
      "execution_count": 0,
      "outputs": []
    },
    {
      "cell_type": "markdown",
      "metadata": {
        "id": "pgtyfOmob1CF",
        "colab_type": "text"
      },
      "source": [
        "b. Training"
      ]
    },
    {
      "cell_type": "markdown",
      "metadata": {
        "id": "H5JUWXFFc5lV",
        "colab_type": "text"
      },
      "source": [
        "(i) Logistic Regression Classifier"
      ]
    },
    {
      "cell_type": "code",
      "metadata": {
        "id": "KvegHzoJYaCF",
        "colab_type": "code",
        "colab": {}
      },
      "source": [
        "transformer = ColumnTransformer([(\"norm1\", SimpleImputer(missing_values=np.nan, strategy='mean'), [0, 3]),\n",
        "                                 ('poly', PolynomialFeatures(3),[0,1])])\n"
      ],
      "execution_count": 0,
      "outputs": []
    },
    {
      "cell_type": "code",
      "metadata": {
        "id": "QbaOTHk_YTig",
        "colab_type": "code",
        "colab": {}
      },
      "source": [
        "logistic_model=Pipeline(steps=([('transformer', transformer),\n",
        "                      ('scaler',MinMaxScaler(feature_range=(0,1))), ('LR', LogisticRegression())]))"
      ],
      "execution_count": 0,
      "outputs": []
    },
    {
      "cell_type": "code",
      "metadata": {
        "id": "JE4GMP8fYnq5",
        "colab_type": "code",
        "colab": {}
      },
      "source": [
        "lr = logistic_model.fit(C_train,c_train)"
      ],
      "execution_count": 0,
      "outputs": []
    },
    {
      "cell_type": "code",
      "metadata": {
        "id": "Hu2JfJeFYuqg",
        "colab_type": "code",
        "outputId": "06a6773a-67ee-4c59-cfb1-5e854731623f",
        "colab": {
          "base_uri": "https://localhost:8080/",
          "height": 34
        }
      },
      "source": [
        "lr_pred = logistic_model.predict(C_test);\n",
        "print(f\"Accuracy of Logistic Regression Classifier: {accuracy_score(c_test, lr_pred)}\")"
      ],
      "execution_count": 0,
      "outputs": [
        {
          "output_type": "stream",
          "text": [
            "Accuracy of Logistic Regression Classifier: 0.9323076923076923\n"
          ],
          "name": "stdout"
        }
      ]
    },
    {
      "cell_type": "markdown",
      "metadata": {
        "id": "BV0hXNKGeGgQ",
        "colab_type": "text"
      },
      "source": [
        "(ii) Random Forest Classifier\n"
      ]
    },
    {
      "cell_type": "code",
      "metadata": {
        "id": "GT2Fg4oZeLS5",
        "colab_type": "code",
        "colab": {}
      },
      "source": [
        "def return_as_it_is(X):\n",
        "    return X*1\n",
        "    \n",
        "rf_model = Pipeline(steps=([('transformer', transformer),('do_nothing',FunctionTransformer(return_as_it_is)),\n",
        "                      ('scaler',MinMaxScaler(feature_range=(0,1))), ('LR', RandomForestClassifier())]))"
      ],
      "execution_count": 0,
      "outputs": []
    },
    {
      "cell_type": "code",
      "metadata": {
        "id": "k7zIm6OSemnf",
        "colab_type": "code",
        "colab": {}
      },
      "source": [
        "rf = rf_model.fit(C_train,c_train)"
      ],
      "execution_count": 0,
      "outputs": []
    },
    {
      "cell_type": "code",
      "metadata": {
        "id": "pTRENBiaeyNA",
        "colab_type": "code",
        "outputId": "466857f1-a8a7-4972-900f-5a6c543f90ce",
        "colab": {
          "base_uri": "https://localhost:8080/",
          "height": 34
        }
      },
      "source": [
        "rf_pred = rf_model.predict(C_test);\n",
        "print(f\"Accuracy of Random Forest Classifier: {accuracy_score(c_test, rf_pred)}\")"
      ],
      "execution_count": 0,
      "outputs": [
        {
          "output_type": "stream",
          "text": [
            "Accuracy of Random Forest Classifier: 0.9476923076923077\n"
          ],
          "name": "stdout"
        }
      ]
    },
    {
      "cell_type": "markdown",
      "metadata": {
        "id": "Vyc7VjiOfFN3",
        "colab_type": "text"
      },
      "source": [
        "(iii) Self-defined Classifier"
      ]
    },
    {
      "cell_type": "code",
      "metadata": {
        "id": "Zl7Q1chxfE8J",
        "colab_type": "code",
        "colab": {}
      },
      "source": [
        "from tensorflow.keras.models import Sequential\n",
        "from tensorflow.keras.layers import Dense, Activation\n",
        "\n",
        "from sklearn.model_selection import train_test_split \n",
        "\n",
        "X_my_model = C.values\n",
        "dummies = pd.get_dummies(wine_all['color']) # Classification\n",
        "species = dummies.columns\n",
        "y_my_model = dummies.values\n",
        "\n",
        "X_train_2, X_test_2, y_train_2, y_test_2 = train_test_split(X_my_model, y_my_model, test_size = 0.20, random_state = 1)\n",
        "\n",
        "my_model = Sequential()\n",
        "my_model.add(Dense(50, input_dim=X_my_model.shape[1], activation='relu')) # Hidden 1\n",
        "my_model.add(Dense(25, activation='relu')) # Hidden 2\n",
        "my_model.add(Dense(y_my_model.shape[1],activation='softmax')) # Output\n",
        "my_model.compile(loss='categorical_crossentropy', optimizer='adam')"
      ],
      "execution_count": 0,
      "outputs": []
    },
    {
      "cell_type": "code",
      "metadata": {
        "id": "dFtnxNCAf1PO",
        "colab_type": "code",
        "outputId": "d8b1e85d-73c5-4dcf-a8c9-1104fa1016f6",
        "colab": {
          "base_uri": "https://localhost:8080/",
          "height": 1000
        }
      },
      "source": [
        "my = my_model.fit(X_train_2,y_train_2,verbose=2,epochs=100)"
      ],
      "execution_count": 0,
      "outputs": [
        {
          "output_type": "stream",
          "text": [
            "Epoch 1/100\n",
            "163/163 - 0s - loss: 0.7340\n",
            "Epoch 2/100\n",
            "163/163 - 0s - loss: 0.1832\n",
            "Epoch 3/100\n",
            "163/163 - 0s - loss: 0.1609\n",
            "Epoch 4/100\n",
            "163/163 - 0s - loss: 0.1484\n",
            "Epoch 5/100\n",
            "163/163 - 0s - loss: 0.1302\n",
            "Epoch 6/100\n",
            "163/163 - 0s - loss: 0.1248\n",
            "Epoch 7/100\n",
            "163/163 - 0s - loss: 0.1155\n",
            "Epoch 8/100\n",
            "163/163 - 0s - loss: 0.1108\n",
            "Epoch 9/100\n",
            "163/163 - 0s - loss: 0.0987\n",
            "Epoch 10/100\n",
            "163/163 - 0s - loss: 0.0967\n",
            "Epoch 11/100\n",
            "163/163 - 0s - loss: 0.0971\n",
            "Epoch 12/100\n",
            "163/163 - 0s - loss: 0.0953\n",
            "Epoch 13/100\n",
            "163/163 - 0s - loss: 0.0869\n",
            "Epoch 14/100\n",
            "163/163 - 0s - loss: 0.0784\n",
            "Epoch 15/100\n",
            "163/163 - 0s - loss: 0.0772\n",
            "Epoch 16/100\n",
            "163/163 - 0s - loss: 0.0889\n",
            "Epoch 17/100\n",
            "163/163 - 0s - loss: 0.0743\n",
            "Epoch 18/100\n",
            "163/163 - 0s - loss: 0.0722\n",
            "Epoch 19/100\n",
            "163/163 - 0s - loss: 0.0683\n",
            "Epoch 20/100\n",
            "163/163 - 0s - loss: 0.0731\n",
            "Epoch 21/100\n",
            "163/163 - 0s - loss: 0.0680\n",
            "Epoch 22/100\n",
            "163/163 - 0s - loss: 0.0763\n",
            "Epoch 23/100\n",
            "163/163 - 0s - loss: 0.0759\n",
            "Epoch 24/100\n",
            "163/163 - 0s - loss: 0.0635\n",
            "Epoch 25/100\n",
            "163/163 - 0s - loss: 0.0661\n",
            "Epoch 26/100\n",
            "163/163 - 0s - loss: 0.0599\n",
            "Epoch 27/100\n",
            "163/163 - 0s - loss: 0.0608\n",
            "Epoch 28/100\n",
            "163/163 - 0s - loss: 0.0647\n",
            "Epoch 29/100\n",
            "163/163 - 0s - loss: 0.0744\n",
            "Epoch 30/100\n",
            "163/163 - 0s - loss: 0.0585\n",
            "Epoch 31/100\n",
            "163/163 - 0s - loss: 0.0616\n",
            "Epoch 32/100\n",
            "163/163 - 0s - loss: 0.0660\n",
            "Epoch 33/100\n",
            "163/163 - 0s - loss: 0.0670\n",
            "Epoch 34/100\n",
            "163/163 - 0s - loss: 0.0691\n",
            "Epoch 35/100\n",
            "163/163 - 0s - loss: 0.0561\n",
            "Epoch 36/100\n",
            "163/163 - 0s - loss: 0.0614\n",
            "Epoch 37/100\n",
            "163/163 - 0s - loss: 0.0588\n",
            "Epoch 38/100\n",
            "163/163 - 0s - loss: 0.0589\n",
            "Epoch 39/100\n",
            "163/163 - 0s - loss: 0.0579\n",
            "Epoch 40/100\n",
            "163/163 - 0s - loss: 0.0543\n",
            "Epoch 41/100\n",
            "163/163 - 0s - loss: 0.0603\n",
            "Epoch 42/100\n",
            "163/163 - 0s - loss: 0.0634\n",
            "Epoch 43/100\n",
            "163/163 - 0s - loss: 0.0570\n",
            "Epoch 44/100\n",
            "163/163 - 0s - loss: 0.0553\n",
            "Epoch 45/100\n",
            "163/163 - 0s - loss: 0.0536\n",
            "Epoch 46/100\n",
            "163/163 - 0s - loss: 0.0545\n",
            "Epoch 47/100\n",
            "163/163 - 0s - loss: 0.0682\n",
            "Epoch 48/100\n",
            "163/163 - 0s - loss: 0.0615\n",
            "Epoch 49/100\n",
            "163/163 - 0s - loss: 0.0541\n",
            "Epoch 50/100\n",
            "163/163 - 0s - loss: 0.0500\n",
            "Epoch 51/100\n",
            "163/163 - 0s - loss: 0.0530\n",
            "Epoch 52/100\n",
            "163/163 - 0s - loss: 0.0539\n",
            "Epoch 53/100\n",
            "163/163 - 0s - loss: 0.0530\n",
            "Epoch 54/100\n",
            "163/163 - 0s - loss: 0.0558\n",
            "Epoch 55/100\n",
            "163/163 - 0s - loss: 0.0513\n",
            "Epoch 56/100\n",
            "163/163 - 0s - loss: 0.0603\n",
            "Epoch 57/100\n",
            "163/163 - 0s - loss: 0.0544\n",
            "Epoch 58/100\n",
            "163/163 - 0s - loss: 0.0533\n",
            "Epoch 59/100\n",
            "163/163 - 0s - loss: 0.0506\n",
            "Epoch 60/100\n",
            "163/163 - 0s - loss: 0.0559\n",
            "Epoch 61/100\n",
            "163/163 - 0s - loss: 0.0565\n",
            "Epoch 62/100\n",
            "163/163 - 0s - loss: 0.0545\n",
            "Epoch 63/100\n",
            "163/163 - 0s - loss: 0.0521\n",
            "Epoch 64/100\n",
            "163/163 - 0s - loss: 0.0475\n",
            "Epoch 65/100\n",
            "163/163 - 0s - loss: 0.0499\n",
            "Epoch 66/100\n",
            "163/163 - 0s - loss: 0.0540\n",
            "Epoch 67/100\n",
            "163/163 - 0s - loss: 0.0553\n",
            "Epoch 68/100\n",
            "163/163 - 0s - loss: 0.0507\n",
            "Epoch 69/100\n",
            "163/163 - 0s - loss: 0.0517\n",
            "Epoch 70/100\n",
            "163/163 - 0s - loss: 0.0475\n",
            "Epoch 71/100\n",
            "163/163 - 0s - loss: 0.0497\n",
            "Epoch 72/100\n",
            "163/163 - 0s - loss: 0.0466\n",
            "Epoch 73/100\n",
            "163/163 - 0s - loss: 0.0540\n",
            "Epoch 74/100\n",
            "163/163 - 0s - loss: 0.0461\n",
            "Epoch 75/100\n",
            "163/163 - 0s - loss: 0.0503\n",
            "Epoch 76/100\n",
            "163/163 - 0s - loss: 0.0441\n",
            "Epoch 77/100\n",
            "163/163 - 0s - loss: 0.0444\n",
            "Epoch 78/100\n",
            "163/163 - 0s - loss: 0.0452\n",
            "Epoch 79/100\n",
            "163/163 - 0s - loss: 0.0461\n",
            "Epoch 80/100\n",
            "163/163 - 0s - loss: 0.0451\n",
            "Epoch 81/100\n",
            "163/163 - 0s - loss: 0.0442\n",
            "Epoch 82/100\n",
            "163/163 - 0s - loss: 0.0441\n",
            "Epoch 83/100\n",
            "163/163 - 0s - loss: 0.0463\n",
            "Epoch 84/100\n",
            "163/163 - 0s - loss: 0.0463\n",
            "Epoch 85/100\n",
            "163/163 - 0s - loss: 0.0553\n",
            "Epoch 86/100\n",
            "163/163 - 0s - loss: 0.0418\n",
            "Epoch 87/100\n",
            "163/163 - 0s - loss: 0.0512\n",
            "Epoch 88/100\n",
            "163/163 - 0s - loss: 0.0480\n",
            "Epoch 89/100\n",
            "163/163 - 0s - loss: 0.0431\n",
            "Epoch 90/100\n",
            "163/163 - 0s - loss: 0.0415\n",
            "Epoch 91/100\n",
            "163/163 - 0s - loss: 0.0459\n",
            "Epoch 92/100\n",
            "163/163 - 0s - loss: 0.0419\n",
            "Epoch 93/100\n",
            "163/163 - 0s - loss: 0.0484\n",
            "Epoch 94/100\n",
            "163/163 - 0s - loss: 0.0526\n",
            "Epoch 95/100\n",
            "163/163 - 0s - loss: 0.0402\n",
            "Epoch 96/100\n",
            "163/163 - 0s - loss: 0.0540\n",
            "Epoch 97/100\n",
            "163/163 - 0s - loss: 0.0442\n",
            "Epoch 98/100\n",
            "163/163 - 0s - loss: 0.0426\n",
            "Epoch 99/100\n",
            "163/163 - 0s - loss: 0.0512\n",
            "Epoch 100/100\n",
            "163/163 - 0s - loss: 0.0428\n"
          ],
          "name": "stdout"
        }
      ]
    },
    {
      "cell_type": "code",
      "metadata": {
        "id": "3eoDVnJOf6XS",
        "colab_type": "code",
        "outputId": "88d93f14-1794-4064-ebda-7416b7075d7c",
        "colab": {
          "base_uri": "https://localhost:8080/",
          "height": 34
        }
      },
      "source": [
        "y_pred_2 = my_model.predict(X_test_2);\n",
        "predict_classes = np.argmax(y_pred_2,axis=1)\n",
        "expected_classes = np.argmax(y_test_2,axis=1)\n",
        "correct = accuracy_score(expected_classes,predict_classes)\n",
        "print(f\"Accuracy of Self-defined Classifier: {correct}\")"
      ],
      "execution_count": 0,
      "outputs": [
        {
          "output_type": "stream",
          "text": [
            "Accuracy of Self-defined Classifier: 0.9853846153846154\n"
          ],
          "name": "stdout"
        }
      ]
    },
    {
      "cell_type": "markdown",
      "metadata": {
        "id": "tOH2BtMAWUjd",
        "colab_type": "text"
      },
      "source": [
        "**4. Improvement of the performance of the quality prediction**"
      ]
    },
    {
      "cell_type": "code",
      "metadata": {
        "id": "Iq-pXEl4WVBK",
        "colab_type": "code",
        "outputId": "8f6f557f-11f8-4577-e5ec-3ad3cee91217",
        "colab": {
          "base_uri": "https://localhost:8080/",
          "height": 153
        }
      },
      "source": [
        "param_grid_rf = {\n",
        "    'n_estimators': [100,200,300,400,500]\n",
        "}\n",
        "\n",
        "from sklearn.model_selection import GridSearchCV\n",
        "rf = RandomForestRegressor()\n",
        "grid_search = GridSearchCV(estimator = rf, param_grid = param_grid_rf, \n",
        "                          cv = 3, n_jobs = -1, verbose = 2)\n",
        "grid_search.fit(X_train, y_train);\n",
        "\n",
        "best_grid = grid_search.best_estimator_\n",
        "\n",
        "y_pred_gridsearch = best_grid.predict(X_test)\n",
        "\n",
        "mae_gridsearch = mean_absolute_error(y_test, y_pred_gridsearch)\n",
        "r2_gridsearch=r2_score(y_test, y_pred_gridsearch)\n",
        "print(\"The model performance for testing set from grid search\")\n",
        "print(\"--------------------------------------\")\n",
        "print('mean absoulte error is {}'.format(mae_gridsearch))\n",
        "print('R2 score is {}'.format(r2_gridsearch))\n",
        "print('Improvement of {:0.2f}%.'.format( 100 * (r2_gridsearch- rfr_r2) / rfr_r2))"
      ],
      "execution_count": 0,
      "outputs": [
        {
          "output_type": "stream",
          "text": [
            "Fitting 3 folds for each of 5 candidates, totalling 15 fits\n"
          ],
          "name": "stdout"
        },
        {
          "output_type": "stream",
          "text": [
            "[Parallel(n_jobs=-1)]: Using backend LokyBackend with 2 concurrent workers.\n",
            "[Parallel(n_jobs=-1)]: Done  15 out of  15 | elapsed:  1.2min finished\n"
          ],
          "name": "stderr"
        },
        {
          "output_type": "stream",
          "text": [
            "The model performance for testing set from grid search\n",
            "--------------------------------------\n",
            "mean absoulte error is 0.4402215384615385\n",
            "R2 score is 0.4941566677593664\n",
            "Improvement of 1.54%.\n"
          ],
          "name": "stdout"
        }
      ]
    }
  ]
}